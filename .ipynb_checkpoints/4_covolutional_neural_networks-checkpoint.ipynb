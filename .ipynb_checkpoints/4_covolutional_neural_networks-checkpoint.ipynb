{
 "cells": [
  {
   "cell_type": "markdown",
   "metadata": {},
   "source": [
    "# Convolutional Neural Networks"
   ]
  },
  {
   "cell_type": "markdown",
   "metadata": {},
   "source": [
    "## Foundations of Convolutional Nueral Networks\n",
    "\n",
    "### Edge Detection Examples\n",
    "\n",
    "Earlier layers might detect edges. The somewhat later layers might detect part of the objects, and the even later layers might detect part of the the complete objects.\n",
    "\n",
    "Detect vertical edge in a 6 by 6 image (the $*$ sign means convolution):\n",
    "\n",
    "$\\begin{bmatrix}\n",
    "3 & 0 & 1 & 2 & 7 & 4 \\\\\n",
    "1 & 5 & 8 & 9 & 3 & 1 \\\\\n",
    "2 & 7 & 2 & 5 & 1 & 3 \\\\\n",
    "0 & 1 & 3 & 1 & 7 & 8 \\\\\n",
    "4 & 2 & 1 & 6 & 2 & 8 \\\\\n",
    "2 & 4 & 5 & 2 & 3 & 9 \\\\\n",
    "\\end{bmatrix} * \\begin{bmatrix}\n",
    "1 & 0 & -1 \\\\\n",
    "1 & 0 & -1 \\\\\n",
    "1 & 0 & -1 \\\\\n",
    "\\end{bmatrix} = \\begin{bmatrix}\n",
    "-5 & -4 & 0 & 8 \\\\\n",
    ". & . & . & . \\\\\n",
    ". & . & . & . \\\\\n",
    ". & . & . & . \\\\\n",
    "\\end{bmatrix}$\n",
    "\n",
    "- $3\\times1 + 1\\times1 + 2\\times1 + 0\\times0 + 5\\times0 + 7\\times0 + 1\\times-1 + 8\\times-1 + 2\\times-1 = -5$\n",
    "- and so on\n",
    "\n",
    "```pyhon\n",
    "tf.nn.conv2D\n",
    "```\n",
    "When there's a vertical line in the image:\n",
    "\n",
    "$\\begin{bmatrix}\n",
    "10 & 10 & 10 & 0 & 0 & 0 \\\\\n",
    "10 & 10 & 10 & 0 & 0 & 0 \\\\\n",
    "10 & 10 & 10 & 0 & 0 & 0 \\\\\n",
    "10 & 10 & 10 & 0 & 0 & 0 \\\\\n",
    "10 & 10 & 10 & 0 & 0 & 0 \\\\\n",
    "10 & 10 & 10 & 0 & 0 & 0 \\\\\n",
    "\\end{bmatrix} * \\begin{bmatrix}\n",
    "1 & 0 & -1 \\\\\n",
    "1 & 0 & -1 \\\\\n",
    "1 & 0 & -1 \\\\\n",
    "\\end{bmatrix} = \\begin{bmatrix}\n",
    "0 & 30 & 30 & 0 \\\\\n",
    "0 & 30 & 30 & 0 \\\\\n",
    "0 & 30 & 30 & 0 \\\\\n",
    "0 & 30 & 30 & 0 \\\\\n",
    "\\end{bmatrix}$\n",
    "\n",
    "### More Edge Detection\n",
    "\n",
    "Horizontal edge: $\n",
    "\\begin{bmatrix}\n",
    "1 & 1 & 1 \\\\\n",
    "0 & 0 & 0 \\\\\n",
    "-1 & -1 & -1 \\\\\n",
    "\\end{bmatrix}$, Sobel filter: $\n",
    "\\begin{bmatrix}\n",
    "1 & 0 & -1 \\\\\n",
    "2 & 0 & -2 \\\\\n",
    "1 & 0 & -1 \\\\\n",
    "\\end{bmatrix}$, Scharr filter: $\n",
    "\\begin{bmatrix}\n",
    "3 & 0 & -3 \\\\\n",
    "10 & 0 & -10 \\\\\n",
    "3 & 0 & -3 \\\\\n",
    "\\end{bmatrix}$, or learn the nine parameters by backprobagation\n"
   ]
  },
  {
   "cell_type": "markdown",
   "metadata": {},
   "source": [
    "### Padding\n",
    "\n",
    "Valid convolutions (without padding): \n",
    "\n",
    "- $(n, n) * (f, f) = (n-f+1, n-f+1)$\n",
    "\n",
    "- $(6,6) * (3,3) = (4,4)$\n",
    "\n",
    "\n",
    "Same convolutions (pad so that output size is the same as the input size); (padding with $p=1$ in this example): \n",
    "\n",
    "- $(n+2p, n+2p) * (f, f) = (n+2p-f+1, n+2p-f+1)$\n",
    "\n",
    "- $(8,8) * (3,3) = (6,6)$\n",
    "\n",
    "- $f$ is uaually odd\n",
    "\n",
    "- when $f=5, p=2$ for same conlutions\n",
    "\n",
    "\n",
    "### Strided Convolutions\n",
    "\n",
    "When stride = 2, take 2 steps instead of 1 step.\n",
    "\n",
    "$\\begin{bmatrix}\n",
    "2 & 3 & 7 & 4 & 6 & 2 & 9 \\\\\n",
    "6 & 6 & 9 & 8 & 7 & 4 & 3 \\\\\n",
    "3 & 4 & 8 & 3 & 8 & 9 & 7 \\\\\n",
    "7 & 8 & 3 & 6 & 6 & 3 & 4 \\\\\n",
    "4 & 2 & 1 & 8 & 3 & 4 & 6 \\\\\n",
    "3 & 2 & 4 & 1 & 9 & 8 & 3 \\\\\n",
    "0 & 1 & 3 & 9 & 2 & 1 & 4 \\\\\n",
    "\\end{bmatrix} * \\begin{bmatrix}\n",
    "3 & 4 & 4 \\\\\n",
    "1 & 0 & 2 \\\\\n",
    "-1 & 0 & 3 \\\\\n",
    "\\end{bmatrix} = \\begin{bmatrix}\n",
    "91 & 100 & 93 \\\\\n",
    "69 & 91 & 127 \\\\\n",
    "44 & 72 & 74 \\\\\n",
    "\\end{bmatrix}$\n",
    "\n",
    "- $(n+2p, n+2p) * (f, f) = (\\lfloor\\frac{n+2p-f}{s}+1\\rfloor, \\lfloor\\frac{n+2p-f}{s}+1\\rfloor)$\n",
    "- If the output is not an iteger, we round down."
   ]
  },
  {
   "cell_type": "markdown",
   "metadata": {},
   "source": [
    "### Convolutions over Volumes"
   ]
  },
  {
   "cell_type": "markdown",
   "metadata": {},
   "source": [
    "## Deep Convolutional Models: Case Studies"
   ]
  },
  {
   "cell_type": "markdown",
   "metadata": {},
   "source": [
    "## Object Detection"
   ]
  },
  {
   "cell_type": "markdown",
   "metadata": {},
   "source": [
    "## Special Applications: Face Recognition & Neural Style Transfer"
   ]
  }
 ],
 "metadata": {
  "kernelspec": {
   "display_name": "Python 3",
   "language": "python",
   "name": "python3"
  },
  "language_info": {
   "codemirror_mode": {
    "name": "ipython",
    "version": 3
   },
   "file_extension": ".py",
   "mimetype": "text/x-python",
   "name": "python",
   "nbconvert_exporter": "python",
   "pygments_lexer": "ipython3",
   "version": "3.5.2"
  }
 },
 "nbformat": 4,
 "nbformat_minor": 2
}
