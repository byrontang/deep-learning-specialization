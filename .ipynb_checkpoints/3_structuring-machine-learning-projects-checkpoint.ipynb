{
 "cells": [
  {
   "cell_type": "markdown",
   "metadata": {},
   "source": [
    "# Structuring Machine Learning Projects"
   ]
  },
  {
   "cell_type": "markdown",
   "metadata": {},
   "source": [
    "## Machine Learning Strategy\n",
    "\n",
    "ML strategy is changing with deep learning.\n",
    "\n",
    "### Orthogonalization to Improve Model Performance\n",
    "\n",
    "Each tool onlyl does one thing.\n",
    "\n",
    "- Fit training set well on cost function ($\\approx$ human-level performance)\n",
    "    - bigger model/network\n",
    "    - train longer/better optimization\n",
    "    - better NN architecuture such as RNN and CNN/hyperparameters search\n",
    "- Fit dev set well on cost function\n",
    "    - more data\n",
    "    - regularization\n",
    "    - bigger training set for better generalization\n",
    "    - better NN architecuture such as RNN and CNN/hyperparameters search\n",
    "- Fit test set well on cost function\n",
    "    - bigger dev set (overtune dev set)\n",
    "- Performs well in real world\n",
    "    - Change dev set or cost function\n",
    "    \n",
    "Using early stopping would affect both training and dev sets.\n",
    "\n",
    "### Train/Dev/Test Set Distributions\n",
    "\n",
    "Choose a dev set and test set to reflect data you expect to get in the future and consider important to do well on. Same distribution of dev and test set.\n",
    "\n",
    "### Size of Dev and Test Sets\n",
    "\n",
    "For deep learning: \n",
    "- With 1 million samples, use 98% in training, 1% in dev, and 1% in test set.\n",
    "- Set your test set to be big enough to give high confidence in the overall performance of your system.\n",
    "\n",
    "### Build First System Quickly then Iterate\n",
    "- Set up dev/test set and metric\n",
    "- Build initial system quickly\n",
    "- Use Bias/Variance analysis & Error analysis to prioritize next steps"
   ]
  }
 ],
 "metadata": {
  "kernelspec": {
   "display_name": "Python 3",
   "language": "python",
   "name": "python3"
  },
  "language_info": {
   "codemirror_mode": {
    "name": "ipython",
    "version": 3
   },
   "file_extension": ".py",
   "mimetype": "text/x-python",
   "name": "python",
   "nbconvert_exporter": "python",
   "pygments_lexer": "ipython3",
   "version": "3.5.2"
  }
 },
 "nbformat": 4,
 "nbformat_minor": 2
}
